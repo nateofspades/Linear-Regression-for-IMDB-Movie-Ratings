{
 "cells": [
  {
   "cell_type": "markdown",
   "metadata": {},
   "source": [
    "**By: Nathan Burns**    \n",
    "\n",
    "\n",
    "# Linear Regression for IMDB Movie Ratings\n",
    "## Introduction"
   ]
  },
  {
   "cell_type": "markdown",
   "metadata": {},
   "source": [
    "This is the capstone project for Coursera's *Linear Regression and Modeling* course, taught by Mine Çetinkaya-Rundel of Duke University. We are provided with a dataset of movies from IMDB which includes data regarding ratings, genres, release dates, whether or not each movie was directed by a winner of an Oscar, and more. We would like to dive into the data and see if we can find anything interesting."
   ]
  },
  {
   "cell_type": "markdown",
   "metadata": {},
   "source": [
    "## Motivation"
   ]
  },
  {
   "cell_type": "markdown",
   "metadata": {},
   "source": [
    "In a time when movie options are abundant, it would be beneficial to be able to narrow our search for a good last-minute movie with the help of some data. It would be nice if we could build a high-performing linear regression model that predicts movie ratings. With just 651 points and less than 20 relevant variables in the original dataset, though, that might be asking a lot. For this reason we would be content just to successfully identify some significant predictors of movie ratings.\n",
    "\n",
    "To measure movie quality we use the 'rating' variable, which is the IMDB rating (1-10). We will compare this variable to multiple explanatory variables to see which can indeed contribute predictive power to the quality of a movie. \n",
    "\n",
    "(The original dataset also includes variables for critic ratings and audience ratings, as well as number of IMDB votes. It turns out that each IMDB rating is based on a respectable sample size of at least 180, whereas the sample sizes for critic and audience ratings are unclear, and presumably small. For this reason we have chosen IMDB rating to be our target.) \n"
   ]
  },
  {
   "cell_type": "markdown",
   "metadata": {},
   "source": [
    "## Data Collection"
   ]
  },
  {
   "cell_type": "markdown",
   "metadata": {},
   "source": [
    "We are told that the dataset is a random sample of movies from IMDB. When we make a histogram of the IMDB ratings in our dataset and compare it to the one found at this link (http://collider.com/imdb-ratings-statistics/) we find similar graphs, which supports this claim of randomness. We are also explicitly told by a professor of a reputable university that the sample is random, so it is safe to assume that it is indeed random. We can therefore use our results to generalize to the population level using correlation. There was no random assignment that was performed though so we need to be mindful not to speak in the language of causality throughout our analysis."
   ]
  },
  {
   "cell_type": "markdown",
   "metadata": {},
   "source": [
    "## Research Goals"
   ]
  },
  {
   "cell_type": "markdown",
   "metadata": {},
   "source": [
    "**Primary Goal:** Determine which variable(s) can be used to predict IMDB movie ratings  --------------------------------  (looking at p-values)\n",
    "\n",
    "**Secondary Goal:** Build a linear regression model that predicts IMDB movie ratings  ----------------------  (looking at adjusted R-squared)"
   ]
  },
  {
   "cell_type": "markdown",
   "metadata": {},
   "source": [
    "## Exploratory Data Analysis"
   ]
  },
  {
   "cell_type": "markdown",
   "metadata": {},
   "source": [
    "### Load the data and libraries"
   ]
  },
  {
   "cell_type": "markdown",
   "metadata": {},
   "source": [
    "We'll begin by loading the data and packages that will be needed throughout this project."
   ]
  },
  {
   "cell_type": "code",
   "execution_count": 43,
   "metadata": {},
   "outputs": [],
   "source": [
    "library(tidyverse) #for dplyr and ggplot2\n",
    "library(ggthemes)  #for modifying ggplot2 graphics\n",
    "library(gridExtra) #for grid.arrange()\n",
    "library(lubridate) #for manipulating date variables\n",
    "library(repr)      #for sizing plots\n",
    "\n",
    "movies = as.tibble(read.csv(\"movies_dataset.csv\"))"
   ]
  },
  {
   "cell_type": "markdown",
   "metadata": {},
   "source": [
    "###  Transform the dataset"
   ]
  },
  {
   "cell_type": "markdown",
   "metadata": {},
   "source": [
    "Now that we have our data and relevant tools loaded, let's take a look at what the original movies dataset has to offer:"
   ]
  },
  {
   "cell_type": "code",
   "execution_count": 45,
   "metadata": {},
   "outputs": [
    {
     "data": {
      "text/html": [
       "<table>\n",
       "<thead><tr><th scope=col>X</th><th scope=col>title</th><th scope=col>title_type</th><th scope=col>genre</th><th scope=col>runtime</th><th scope=col>mpaa_rating</th><th scope=col>studio</th><th scope=col>thtr_rel_year</th><th scope=col>thtr_rel_month</th><th scope=col>thtr_rel_day</th><th scope=col>...</th><th scope=col>best_dir_win</th><th scope=col>top200_box</th><th scope=col>director</th><th scope=col>actor1</th><th scope=col>actor2</th><th scope=col>actor3</th><th scope=col>actor4</th><th scope=col>actor5</th><th scope=col>imdb_url</th><th scope=col>rt_url</th></tr></thead>\n",
       "<tbody>\n",
       "\t<tr><td>1                                           </td><td>Filly Brown                                 </td><td>Feature Film                                </td><td>Drama                                       </td><td>80                                          </td><td>R                                           </td><td>Indomina Media Inc.                         </td><td>2013                                        </td><td>4                                           </td><td>19                                          </td><td>...                                         </td><td>no                                          </td><td>no                                          </td><td>Michael D. Olmos                            </td><td>Gina Rodriguez                              </td><td>Jenni Rivera                                </td><td>Lou Diamond Phillips                        </td><td>Emilio Rivera                               </td><td>Joseph Julian Soria                         </td><td>http://www.imdb.com/title/tt1869425/        </td><td>//www.rottentomatoes.com/m/filly_brown_2012/</td></tr>\n",
       "</tbody>\n",
       "</table>\n"
      ],
      "text/latex": [
       "\\begin{tabular}{r|lllllllllllllllllllllllllllllllll}\n",
       " X & title & title\\_type & genre & runtime & mpaa\\_rating & studio & thtr\\_rel\\_year & thtr\\_rel\\_month & thtr\\_rel\\_day & ... & best\\_dir\\_win & top200\\_box & director & actor1 & actor2 & actor3 & actor4 & actor5 & imdb\\_url & rt\\_url\\\\\n",
       "\\hline\n",
       "\t 1                                                & Filly Brown                                      & Feature Film                                     & Drama                                            & 80                                               & R                                                & Indomina Media Inc.                              & 2013                                             & 4                                                & 19                                               & ...                                              & no                                               & no                                               & Michael D. Olmos                                 & Gina Rodriguez                                   & Jenni Rivera                                     & Lou Diamond Phillips                             & Emilio Rivera                                    & Joseph Julian Soria                              & http://www.imdb.com/title/tt1869425/             & //www.rottentomatoes.com/m/filly\\_brown\\_2012/\\\\\n",
       "\\end{tabular}\n"
      ],
      "text/markdown": [
       "\n",
       "X | title | title_type | genre | runtime | mpaa_rating | studio | thtr_rel_year | thtr_rel_month | thtr_rel_day | ... | best_dir_win | top200_box | director | actor1 | actor2 | actor3 | actor4 | actor5 | imdb_url | rt_url | \n",
       "|---|\n",
       "| 1                                            | Filly Brown                                  | Feature Film                                 | Drama                                        | 80                                           | R                                            | Indomina Media Inc.                          | 2013                                         | 4                                            | 19                                           | ...                                          | no                                           | no                                           | Michael D. Olmos                             | Gina Rodriguez                               | Jenni Rivera                                 | Lou Diamond Phillips                         | Emilio Rivera                                | Joseph Julian Soria                          | http://www.imdb.com/title/tt1869425/         | //www.rottentomatoes.com/m/filly_brown_2012/ | \n",
       "\n",
       "\n"
      ],
      "text/plain": [
       "  X title       title_type   genre runtime mpaa_rating studio             \n",
       "1 1 Filly Brown Feature Film Drama 80      R           Indomina Media Inc.\n",
       "  thtr_rel_year thtr_rel_month thtr_rel_day ... best_dir_win top200_box\n",
       "1 2013          4              19           ... no           no        \n",
       "  director         actor1         actor2       actor3              \n",
       "1 Michael D. Olmos Gina Rodriguez Jenni Rivera Lou Diamond Phillips\n",
       "  actor4        actor5              imdb_url                            \n",
       "1 Emilio Rivera Joseph Julian Soria http://www.imdb.com/title/tt1869425/\n",
       "  rt_url                                      \n",
       "1 //www.rottentomatoes.com/m/filly_brown_2012/"
      ]
     },
     "metadata": {},
     "output_type": "display_data"
    }
   ],
   "source": [
    "movies[1,]"
   ]
  },
  {
   "cell_type": "markdown",
   "metadata": {},
   "source": [
    "**A quick glance at the variable list above should convince you that:** <br />\n",
    "\n",
    "•   There are many irrelevant variables. <br />\n",
    "•   The variable naming scheme could be improved. <br />\n",
    "•   *thtr_rel_month* (1-12) might be clearer if replaced by month names. <br />\n",
    "•   *best_actor_win* and *best_actress_win* can be combined into a single variable best_actor. <br /> <br />\n",
    "\n",
    "<div style=\"text-align: justify\"> We combine actors and actresses because the classes for both are already skewed (with many more 'no' values than 'yes'). Combining them reduces the skewness. Now let's apply the above changes: </div>"
   ]
  },
  {
   "cell_type": "code",
   "execution_count": 46,
   "metadata": {},
   "outputs": [],
   "source": [
    "movies = movies %>%\n",
    "  rename(type=title_type, length=runtime, maturity=mpaa_rating, year=thtr_rel_year, month=thtr_rel_month, day=thtr_rel_day, rating=imdb_rating, best_director=best_dir_win) %>% \n",
    "  mutate(best_actor=(best_actor_win=='yes' | best_actress_win=='yes'), month=month(month, label=TRUE)) %>%\n",
    "  select(2:10, 14, 24, 34)\n",
    "  "
   ]
  },
  {
   "cell_type": "markdown",
   "metadata": {},
   "source": [
    "Before we start really analyzing our data we should inspect some of the categorical variables to check whether or not each class has sufficient data to draw conclusions from. Let's start with *type*:"
   ]
  },
  {
   "cell_type": "code",
   "execution_count": 47,
   "metadata": {},
   "outputs": [
    {
     "data": {
      "text/html": [
       "<dl class=dl-horizontal>\n",
       "\t<dt>Documentary</dt>\n",
       "\t\t<dd>55</dd>\n",
       "\t<dt>Feature Film</dt>\n",
       "\t\t<dd>591</dd>\n",
       "\t<dt>TV Movie</dt>\n",
       "\t\t<dd>5</dd>\n",
       "</dl>\n"
      ],
      "text/latex": [
       "\\begin{description*}\n",
       "\\item[Documentary] 55\n",
       "\\item[Feature Film] 591\n",
       "\\item[TV Movie] 5\n",
       "\\end{description*}\n"
      ],
      "text/markdown": [
       "Documentary\n",
       ":   55Feature Film\n",
       ":   591TV Movie\n",
       ":   5\n",
       "\n"
      ],
      "text/plain": [
       " Documentary Feature Film     TV Movie \n",
       "          55          591            5 "
      ]
     },
     "metadata": {},
     "output_type": "display_data"
    }
   ],
   "source": [
    "summary(movies$type)\n"
   ]
  },
  {
   "cell_type": "markdown",
   "metadata": {},
   "source": [
    "There are only 5 movies that were classified as a *TV Movie*, and tv movies are likely lower in their ratings than feature films and documentaries, so they can't reliably be collapsed into the *Documentary* or *Feature Film* classes. The best approach here is to just eliminate these 5 points:"
   ]
  },
  {
   "cell_type": "code",
   "execution_count": 48,
   "metadata": {},
   "outputs": [],
   "source": [
    "movies = movies %>% filter(type!=\"TV Movie\")\n",
    "movies$type=factor(movies$type)  #This gets rid of the now-empty level"
   ]
  },
  {
   "cell_type": "markdown",
   "metadata": {},
   "source": [
    "Now let's look at maturity:"
   ]
  },
  {
   "cell_type": "code",
   "execution_count": 49,
   "metadata": {},
   "outputs": [
    {
     "data": {
      "text/html": [
       "<dl class=dl-horizontal>\n",
       "\t<dt>G</dt>\n",
       "\t\t<dd>19</dd>\n",
       "\t<dt>NC-17</dt>\n",
       "\t\t<dd>2</dd>\n",
       "\t<dt>PG</dt>\n",
       "\t\t<dd>118</dd>\n",
       "\t<dt>PG-13</dt>\n",
       "\t\t<dd>133</dd>\n",
       "\t<dt>R</dt>\n",
       "\t\t<dd>326</dd>\n",
       "\t<dt>Unrated</dt>\n",
       "\t\t<dd>48</dd>\n",
       "</dl>\n"
      ],
      "text/latex": [
       "\\begin{description*}\n",
       "\\item[G] 19\n",
       "\\item[NC-17] 2\n",
       "\\item[PG] 118\n",
       "\\item[PG-13] 133\n",
       "\\item[R] 326\n",
       "\\item[Unrated] 48\n",
       "\\end{description*}\n"
      ],
      "text/markdown": [
       "G\n",
       ":   19NC-17\n",
       ":   2PG\n",
       ":   118PG-13\n",
       ":   133R\n",
       ":   326Unrated\n",
       ":   48\n",
       "\n"
      ],
      "text/plain": [
       "      G   NC-17      PG   PG-13       R Unrated \n",
       "     19       2     118     133     326      48 "
      ]
     },
     "metadata": {},
     "output_type": "display_data"
    }
   ],
   "source": [
    "summary(movies$maturity)"
   ]
  },
  {
   "cell_type": "markdown",
   "metadata": {},
   "source": [
    "Most of the data is concentrated in the *PG*, *PG-13* and *R* classes. That being said, there are still 69 points between the *G*, *NC-17* and *Unrated* classes, which is not a negligible amount considering the full dataset consists of only a few hundred points. Rather than eliminating the points with these classes we will instead collapse them into a single class called *Other*: "
   ]
  },
  {
   "cell_type": "code",
   "execution_count": 50,
   "metadata": {},
   "outputs": [],
   "source": [
    "movies$maturity = movies$maturity %>% fct_collapse('Other'=c('G', 'NC-17', 'Unrated'))"
   ]
  },
  {
   "cell_type": "markdown",
   "metadata": {},
   "source": [
    "And now for *studio* - notice how many classes this variable has:"
   ]
  },
  {
   "cell_type": "code",
   "execution_count": 51,
   "metadata": {},
   "outputs": [
    {
     "data": {
      "text/html": [
       "211"
      ],
      "text/latex": [
       "211"
      ],
      "text/markdown": [
       "211"
      ],
      "text/plain": [
       "[1] 211"
      ]
     },
     "metadata": {},
     "output_type": "display_data"
    }
   ],
   "source": [
    "movies$studio %>% levels() %>% length()"
   ]
  },
  {
   "cell_type": "markdown",
   "metadata": {},
   "source": [
    "This is far too many classes for the *studio* variable given our dataset size, so we will keep the 4 most abundant classes excluding *(Other)* and collapse the rest into a single class called *Other* (no parentheses). Let's find out which are the top 4 studios:"
   ]
  },
  {
   "cell_type": "code",
   "execution_count": 52,
   "metadata": {},
   "outputs": [
    {
     "data": {
      "text/html": [
       "<dl class=dl-horizontal>\n",
       "\t<dt>Universal Pictures</dt>\n",
       "\t\t<dd>23</dd>\n",
       "\t<dt>Sony Pictures Home Entertainment</dt>\n",
       "\t\t<dd>27</dd>\n",
       "\t<dt>Warner Bros. Pictures</dt>\n",
       "\t\t<dd>30</dd>\n",
       "\t<dt>Paramount Pictures</dt>\n",
       "\t\t<dd>37</dd>\n",
       "\t<dt>(Other)</dt>\n",
       "\t\t<dd>111</dd>\n",
       "</dl>\n"
      ],
      "text/latex": [
       "\\begin{description*}\n",
       "\\item[Universal Pictures] 23\n",
       "\\item[Sony Pictures Home Entertainment] 27\n",
       "\\item[Warner Bros. Pictures] 30\n",
       "\\item[Paramount Pictures] 37\n",
       "\\item[(Other)] 111\n",
       "\\end{description*}\n"
      ],
      "text/markdown": [
       "Universal Pictures\n",
       ":   23Sony Pictures Home Entertainment\n",
       ":   27Warner Bros. Pictures\n",
       ":   30Paramount Pictures\n",
       ":   37(Other)\n",
       ":   111\n",
       "\n"
      ],
      "text/plain": [
       "              Universal Pictures Sony Pictures Home Entertainment \n",
       "                              23                               27 \n",
       "           Warner Bros. Pictures               Paramount Pictures \n",
       "                              30                               37 \n",
       "                         (Other) \n",
       "                             111 "
      ]
     },
     "metadata": {},
     "output_type": "display_data"
    }
   ],
   "source": [
    "movies$studio %>% summary() %>% sort() %>% tail(5)"
   ]
  },
  {
   "cell_type": "code",
   "execution_count": 53,
   "metadata": {},
   "outputs": [],
   "source": [
    "#Collapsing the levels\n",
    "levels(movies$studio) = union(levels(movies$studio), 'Other')\n",
    "\n",
    "movies$studio[!(movies$studio %in% c('Paramount Pictures', 'Warner Bros. Pictures', 'Sony Pictures Home Entertainment', 'Universal Pictures'))] = 'Other'\n",
    "movies$studio = factor(movies$studio)  #This gets rid of the now-empty levels"
   ]
  },
  {
   "cell_type": "markdown",
   "metadata": {},
   "source": [
    "Now consider the *best_actor* and *best_director* variables:"
   ]
  },
  {
   "cell_type": "code",
   "execution_count": 54,
   "metadata": {},
   "outputs": [
    {
     "data": {
      "text/html": [
       "'logical'"
      ],
      "text/latex": [
       "'logical'"
      ],
      "text/markdown": [
       "'logical'"
      ],
      "text/plain": [
       "[1] \"logical\""
      ]
     },
     "metadata": {},
     "output_type": "display_data"
    },
    {
     "data": {
      "text/html": [
       "<ol class=list-inline>\n",
       "\t<li>'no'</li>\n",
       "\t<li>'yes'</li>\n",
       "</ol>\n"
      ],
      "text/latex": [
       "\\begin{enumerate*}\n",
       "\\item 'no'\n",
       "\\item 'yes'\n",
       "\\end{enumerate*}\n"
      ],
      "text/markdown": [
       "1. 'no'\n",
       "2. 'yes'\n",
       "\n",
       "\n"
      ],
      "text/plain": [
       "[1] \"no\"  \"yes\""
      ]
     },
     "metadata": {},
     "output_type": "display_data"
    }
   ],
   "source": [
    "class(movies$best_actor)\n",
    "\n",
    "levels(movies$best_director)"
   ]
  },
  {
   "cell_type": "markdown",
   "metadata": {},
   "source": [
    "Notice:\n",
    "\n",
    "•   *best_actor* is logical - *TRUE* if any cast member has ever won an Oscar, *FALSE* otherwise  <br />\n",
    "•   *best_director* is categorical - *yes* if the director has won an Oscar for any movie, *no* otherwise  <br />\n",
    "\n",
    "For consistency, let's convert *best_actor* to a categorical variable where *FALSE*->*no* and *TRUE*->*yes*."
   ]
  },
  {
   "cell_type": "code",
   "execution_count": 55,
   "metadata": {},
   "outputs": [],
   "source": [
    "movies$best_actor = as.factor(movies$best_actor)\n",
    "\n",
    "levels(movies$best_actor)[levels(movies$best_actor)==FALSE] = 'no'\n",
    "levels(movies$best_actor)[levels(movies$best_actor)==TRUE] = 'yes'"
   ]
  },
  {
   "cell_type": "markdown",
   "metadata": {},
   "source": [
    "Let's now take care of any missing values that may have arisen in our dataset."
   ]
  },
  {
   "cell_type": "code",
   "execution_count": 56,
   "metadata": {},
   "outputs": [
    {
     "data": {
      "text/html": [
       "1"
      ],
      "text/latex": [
       "1"
      ],
      "text/markdown": [
       "1"
      ],
      "text/plain": [
       "[1] 1"
      ]
     },
     "metadata": {},
     "output_type": "display_data"
    }
   ],
   "source": [
    "sum(is.na(movies))"
   ]
  },
  {
   "cell_type": "markdown",
   "metadata": {},
   "source": [
    "We see that there's just one missing value that needs to be taken care of. If we were to look at summary(movies) we would find that this missing value occurs in the *length* variable. That's convenient - we can just identify the title of this movie then look up the movie length online:"
   ]
  },
  {
   "cell_type": "code",
   "execution_count": 57,
   "metadata": {},
   "outputs": [
    {
     "data": {
      "text/html": [
       "'The End of America'"
      ],
      "text/latex": [
       "'The End of America'"
      ],
      "text/markdown": [
       "'The End of America'"
      ],
      "text/plain": [
       "[1] \"The End of America\""
      ]
     },
     "metadata": {},
     "output_type": "display_data"
    }
   ],
   "source": [
    "i = which(is.na(movies$length))\n",
    "as.character(movies$title[i])"
   ]
  },
  {
   "cell_type": "markdown",
   "metadata": {},
   "source": [
    "A quick Google search will reveal that *The End of America* is 1h 14m long, so we can fill in the missing value with 74."
   ]
  },
  {
   "cell_type": "code",
   "execution_count": 58,
   "metadata": {},
   "outputs": [],
   "source": [
    "movies$length[i] = 74"
   ]
  },
  {
   "cell_type": "markdown",
   "metadata": {},
   "source": [
    "We now have our dataset and variables in good form. For future reference, let's take a look at what a typical row in the updated version of the dataset looks like: "
   ]
  },
  {
   "cell_type": "code",
   "execution_count": 59,
   "metadata": {},
   "outputs": [
    {
     "data": {
      "text/html": [
       "<table>\n",
       "<thead><tr><th scope=col>title</th><th scope=col>type</th><th scope=col>genre</th><th scope=col>length</th><th scope=col>maturity</th><th scope=col>studio</th><th scope=col>year</th><th scope=col>month</th><th scope=col>day</th><th scope=col>rating</th><th scope=col>best_director</th><th scope=col>best_actor</th></tr></thead>\n",
       "<tbody>\n",
       "\t<tr><td>Filly Brown </td><td>Feature Film</td><td>Drama       </td><td>80          </td><td>R           </td><td>Other       </td><td>2013        </td><td>Apr         </td><td>19          </td><td>5.5         </td><td>no          </td><td>no          </td></tr>\n",
       "</tbody>\n",
       "</table>\n"
      ],
      "text/latex": [
       "\\begin{tabular}{r|llllllllllll}\n",
       " title & type & genre & length & maturity & studio & year & month & day & rating & best\\_director & best\\_actor\\\\\n",
       "\\hline\n",
       "\t Filly Brown  & Feature Film & Drama        & 80           & R            & Other        & 2013         & Apr          & 19           & 5.5          & no           & no          \\\\\n",
       "\\end{tabular}\n"
      ],
      "text/markdown": [
       "\n",
       "title | type | genre | length | maturity | studio | year | month | day | rating | best_director | best_actor | \n",
       "|---|\n",
       "| Filly Brown  | Feature Film | Drama        | 80           | R            | Other        | 2013         | Apr          | 19           | 5.5          | no           | no           | \n",
       "\n",
       "\n"
      ],
      "text/plain": [
       "  title       type         genre length maturity studio year month day rating\n",
       "1 Filly Brown Feature Film Drama 80     R        Other  2013 Apr   19  5.5   \n",
       "  best_director best_actor\n",
       "1 no            no        "
      ]
     },
     "metadata": {},
     "output_type": "display_data"
    }
   ],
   "source": [
    "movies[1,]"
   ]
  },
  {
   "cell_type": "markdown",
   "metadata": {},
   "source": [
    "### Univariate analysis"
   ]
  },
  {
   "cell_type": "markdown",
   "metadata": {},
   "source": [
    "Let's get to know our variables better. We will begin by creating a bar chart for each of the categorical variables that might be important and a histogram for each of the continuous variables that might be important. Note that:"
   ]
  },
  {
   "cell_type": "markdown",
   "metadata": {},
   "source": [
    "• In each of the charts the y-axis is understood to be a count of the number of movies produced, grouped by the x-axis variable. <br /> • The stated values along the y-axes are the minimum/maximum bar heights/counts in each bar graph (in blue) and histogram (in red). <br />\n",
    "• *Best Actor?* refers to whether or not there is an Oscar-winning actor (for any movie) in the cast. <br />\n",
    "• *Best Director?* refers to whether or not the director of the movie has won an Oscar (for any movie). <br />\n",
    "• *Feature Film?* corresponds to the *type* variable. <br />\n",
    "• *Day of Month (1-31), Month* and *Year* refer to theater release dates."
   ]
  },
  {
   "cell_type": "code",
   "execution_count": 21,
   "metadata": {},
   "outputs": [
    {
     "data": {
      "image/png": "[encoded data removed]",
      "text/plain": [
       "plot without title"
      ]
     },
     "metadata": {},
     "output_type": "display_data"
    }
   ],
   "source": [
    "options(repr.plot.width=8, repr.plot.height=3)\n",
    "grid.arrange(g1,g2,g3,g4,g5,g6,g7,g8,g9,g10, nrow=2)\n",
    "#The code for g1-g10 can be found at the end of this project."
   ]
  },
  {
   "cell_type": "markdown",
   "metadata": {},
   "source": [
    "**Some observations about the variables:**\n",
    "\n",
    "•  *genre* is heavily skewed towards the *Drama* class. <br />\n",
    "•  *type* is heavily skewed towards the *Feature Film* class. <br />\n",
    "•  R-rated movies are the most common, but the other classes still have respectable sample sizes. <br />\n",
    "•  *studio* is heavily skewed towards the *Other* class (which makes sense given that we collapsed all but the top 4 studios into one class). <br />\n",
    "•  *best_actor* and *best_director* are heavily skewed towards the *no* class. <br />\n",
    "•  Movies are released much more frequently on the first day of a month. <br />\n",
    "•  The distribution for the number of movies released per month is noisy. <br />\n",
    "•  More movies are being released per year as time goes on. <br />\n",
    "•  Movies that are around 100 minutes (1h 40m) in length are the most common. <br />\n",
    "•  There's at least one movie that's >250 minutes and at least one that is <50 minutes. (outliers)"
   ]
  },
  {
   "cell_type": "markdown",
   "metadata": {},
   "source": [
    "Before proceeding let's take a closer look at the *genre* variable."
   ]
  },
  {
   "cell_type": "code",
   "execution_count": 22,
   "metadata": {},
   "outputs": [
    {
     "data": {
      "text/html": [
       "<dl class=dl-horizontal>\n",
       "\t<dt>Animation</dt>\n",
       "\t\t<dd>9</dd>\n",
       "\t<dt>Science Fiction &amp; Fantasy</dt>\n",
       "\t\t<dd>9</dd>\n",
       "\t<dt>Musical &amp; Performing Arts</dt>\n",
       "\t\t<dd>12</dd>\n",
       "\t<dt>Art House &amp; International</dt>\n",
       "\t\t<dd>14</dd>\n",
       "\t<dt>Other</dt>\n",
       "\t\t<dd>15</dd>\n",
       "\t<dt>Horror</dt>\n",
       "\t\t<dd>23</dd>\n",
       "\t<dt>Documentary</dt>\n",
       "\t\t<dd>52</dd>\n",
       "\t<dt>Mystery &amp; Suspense</dt>\n",
       "\t\t<dd>59</dd>\n",
       "\t<dt>Action &amp; Adventure</dt>\n",
       "\t\t<dd>65</dd>\n",
       "\t<dt>Comedy</dt>\n",
       "\t\t<dd>87</dd>\n",
       "\t<dt>Drama</dt>\n",
       "\t\t<dd>301</dd>\n",
       "</dl>\n"
      ],
      "text/latex": [
       "\\begin{description*}\n",
       "\\item[Animation] 9\n",
       "\\item[Science Fiction \\textbackslash{}\\& Fantasy] 9\n",
       "\\item[Musical \\textbackslash{}\\& Performing Arts] 12\n",
       "\\item[Art House \\textbackslash{}\\& International] 14\n",
       "\\item[Other] 15\n",
       "\\item[Horror] 23\n",
       "\\item[Documentary] 52\n",
       "\\item[Mystery \\textbackslash{}\\& Suspense] 59\n",
       "\\item[Action \\textbackslash{}\\& Adventure] 65\n",
       "\\item[Comedy] 87\n",
       "\\item[Drama] 301\n",
       "\\end{description*}\n"
      ],
      "text/markdown": [
       "Animation\n",
       ":   9Science Fiction &amp;amp; Fantasy\n",
       ":   9Musical &amp;amp; Performing Arts\n",
       ":   12Art House &amp;amp; International\n",
       ":   14Other\n",
       ":   15Horror\n",
       ":   23Documentary\n",
       ":   52Mystery &amp;amp; Suspense\n",
       ":   59Action &amp;amp; Adventure\n",
       ":   65Comedy\n",
       ":   87Drama\n",
       ":   301\n",
       "\n"
      ],
      "text/plain": [
       "                Animation Science Fiction & Fantasy Musical & Performing Arts \n",
       "                        9                         9                        12 \n",
       "Art House & International                     Other                    Horror \n",
       "                       14                        15                        23 \n",
       "              Documentary        Mystery & Suspense        Action & Adventure \n",
       "                       52                        59                        65 \n",
       "                   Comedy                     Drama \n",
       "                       87                       301 "
      ]
     },
     "metadata": {},
     "output_type": "display_data"
    }
   ],
   "source": [
    "sort(summary(movies$genre))"
   ]
  },
  {
   "cell_type": "markdown",
   "metadata": {},
   "source": [
    "We see both from the bar chart and the summary table that there is a disproportionately high number of drama movies in our dataset. However, it is not entirely clear how the genre is determined for each movie in this dataset, given that movies on the IMDB website are classified under multiple genres. Perhaps this dataset just uses the first genre that appears in a movie's genre list on IMDB, or it could plausibly be that this dataset uses the most dominant genre for each movie. In any case, we should be mindful that about half of the movies in our dataset can be classified as drama films."
   ]
  },
  {
   "cell_type": "markdown",
   "metadata": {},
   "source": [
    "Now let's inspect the *length* variable on account of its apparent outliers. We see that there are movies with runtimes less than 50 minutes or greater than 250 minutes. Which movies are these?"
   ]
  },
  {
   "cell_type": "code",
   "execution_count": 23,
   "metadata": {},
   "outputs": [
    {
     "data": {
      "text/html": [
       "<table>\n",
       "<thead><tr><th scope=col>title</th><th scope=col>type</th><th scope=col>genre</th><th scope=col>length</th></tr></thead>\n",
       "<tbody>\n",
       "\t<tr><td>Africa: The Serengeti                             </td><td>Documentary                                       </td><td>Documentary                                       </td><td> 39                                               </td></tr>\n",
       "\t<tr><td>Hotel Terminus: The Life and Times of Klaus Barbie</td><td>Documentary                                       </td><td>Documentary                                       </td><td>267                                               </td></tr>\n",
       "\t<tr><td>Sea Monsters: A Prehistoric Adventure             </td><td>Documentary                                       </td><td>Documentary                                       </td><td> 40                                               </td></tr>\n",
       "</tbody>\n",
       "</table>\n"
      ],
      "text/latex": [
       "\\begin{tabular}{r|llll}\n",
       " title & type & genre & length\\\\\n",
       "\\hline\n",
       "\t Africa: The Serengeti                              & Documentary                                        & Documentary                                        &  39                                               \\\\\n",
       "\t Hotel Terminus: The Life and Times of Klaus Barbie & Documentary                                        & Documentary                                        & 267                                               \\\\\n",
       "\t Sea Monsters: A Prehistoric Adventure              & Documentary                                        & Documentary                                        &  40                                               \\\\\n",
       "\\end{tabular}\n"
      ],
      "text/markdown": [
       "\n",
       "title | type | genre | length | \n",
       "|---|---|---|\n",
       "| Africa: The Serengeti                              | Documentary                                        | Documentary                                        |  39                                                | \n",
       "| Hotel Terminus: The Life and Times of Klaus Barbie | Documentary                                        | Documentary                                        | 267                                                | \n",
       "| Sea Monsters: A Prehistoric Adventure              | Documentary                                        | Documentary                                        |  40                                                | \n",
       "\n",
       "\n"
      ],
      "text/plain": [
       "  title                                              type        genre      \n",
       "1 Africa: The Serengeti                              Documentary Documentary\n",
       "2 Hotel Terminus: The Life and Times of Klaus Barbie Documentary Documentary\n",
       "3 Sea Monsters: A Prehistoric Adventure              Documentary Documentary\n",
       "  length\n",
       "1  39   \n",
       "2 267   \n",
       "3  40   "
      ]
     },
     "metadata": {},
     "output_type": "display_data"
    }
   ],
   "source": [
    "(movies %>% filter(length<50 | length>250))[1:4]"
   ]
  },
  {
   "cell_type": "markdown",
   "metadata": {},
   "source": [
    "The extremely short and extremely long movies are all documentaries. That makes sense; we generally wouldn't expect feature films to be as short as 39 minutes or as long as 267 minutes. In this case we won't remove our outliers, because as we will see shortly, documentaries are movies of particular interest in this dataset. "
   ]
  },
  {
   "cell_type": "markdown",
   "metadata": {},
   "source": [
    "### Bivariate analysis"
   ]
  },
  {
   "cell_type": "markdown",
   "metadata": {},
   "source": [
    "In this section we will compare the candidate explanatory variables to the target variable, *rating*. Let's begin with the *best_actor* and *best_director* variables."
   ]
  },
  {
   "cell_type": "code",
   "execution_count": 25,
   "metadata": {},
   "outputs": [
    {
     "data": {
      "image/png": "[encoded data removed]",
      "text/plain": [
       "plot without title"
      ]
     },
     "metadata": {},
     "output_type": "display_data"
    }
   ],
   "source": [
    "options(repr.plot.width=8, repr.plot.height=2.5)\n",
    "grid.arrange(g11,g12, nrow=1)\n",
    "#The code for g11 and g12 can be found at the end of this project."
   ]
  },
  {
   "cell_type": "markdown",
   "metadata": {},
   "source": [
    " **Best Actor**: We see that the first, second and third quartiles (the boxes) are similar for movies that include an Oscar-winning actor in their cast and those that don't. Due to the multitude of points beneath the lower whisker for the *no* class and due to the singular point above the upper whisker in the *yes* class, it would be tempting to conclude that movies with best actors are more likely to receive very high ratings, and movies without best actors are more likely to get very low ratings. This would coincide with our human intuition, and is probably true. There are so few points beyond the whiskers though, so we should remain open to changing our minds if presented with sufficient reason to. <br /> \n",
    "\n",
    "\n",
    "**Best Director**: Here we see a noteworthy difference in the two boxplots. The first, second and third quartiles are noticeably higher for movies directed by an Oscar-winning director than for movies directed by someone who hasn't won an Oscar - nothing surprising there. Furthermore, there are no low-rating movies that were produced by Oscar-winning directors. We saw in the univariate section that there are only 43 movies in the dataset with an Oscar-winning director though, so we'll need to be mindful of sample sizes when using this variable in the linear regression section. \n",
    "\n",
    "Next we will consider side-by-side boxplots for the *genre* and *type* variables."
   ]
  },
  {
   "cell_type": "code",
   "execution_count": 63,
   "metadata": {},
   "outputs": [
    {
     "data": {
      "image/png": "[encoded data removed]",
      "text/plain": [
       "plot without title"
      ]
     },
     "metadata": {},
     "output_type": "display_data"
    }
   ],
   "source": [
    "options(repr.plot.width=8, repr.plot.height=2.5)\n",
    "grid.arrange(g13,g14, nrow=1)\n",
    "#The code for g13 and g14 can be found at the end of this project."
   ]
  },
  {
   "cell_type": "markdown",
   "metadata": {},
   "source": [
    "**Type** (*Documentary / Feature Film*): Notice that even the first quartile of the *Documentary* boxplot is higher than the third quartile of the *Feature Film* boxplot, so there is an unmistakeable difference in movie ratings for the two types. Moreover, the variability of the ratings is small for documentaries, as seen by the lower IQR (i.e. the box is narrower). We should keep this in mind when building our linear regression model, as it might help improve our predictive capabilities for the documentaries in our dataset.\n"
   ]
  },
  {
   "cell_type": "markdown",
   "metadata": {},
   "source": [
    "**Genre:** When we order the boxplots by decreasing median we see that there is a noticeable difference across the various genres. I find it surprising that *Comedy* would be the least popular genre. I'm curious - which comedy movie is it that is receiving such a terrible IMDB rating, all the way at the bottom-right of the graph? "
   ]
  },
  {
   "cell_type": "code",
   "execution_count": 64,
   "metadata": {},
   "outputs": [
    {
     "data": {
      "text/html": [
       "'Disaster Movie'"
      ],
      "text/latex": [
       "'Disaster Movie'"
      ],
      "text/markdown": [
       "'Disaster Movie'"
      ],
      "text/plain": [
       "[1] \"Disaster Movie\""
      ]
     },
     "metadata": {},
     "output_type": "display_data"
    }
   ],
   "source": [
    "badComedy = movies %>% filter(genre==\"Comedy\", rating<3)\n",
    "as.character(badComedy$title)"
   ]
  },
  {
   "cell_type": "markdown",
   "metadata": {},
   "source": [
    "(Note to self: *Disaster Movie* is a disastrous movie.) <br /> <br /> Even more surprising to me is that the *Documentary* genre would receive the highest ratings, which further supports what was uncovered in the *Type* graph. Are *maturity* or *studio* correlated to movie ratings? Let's find out:\n",
    "\n",
    "\n"
   ]
  },
  {
   "cell_type": "code",
   "execution_count": 65,
   "metadata": {},
   "outputs": [
    {
     "data": {
      "image/png": "[encoded data removed]",
      "text/plain": [
       "plot without title"
      ]
     },
     "metadata": {},
     "output_type": "display_data"
    }
   ],
   "source": [
    "options(repr.plot.width=8, repr.plot.height=2.5)\n",
    "grid.arrange(g15,g16, nrow=1)\n",
    "#The code for g15 and g16 can be found at the end of this project."
   ]
  },
  {
   "cell_type": "markdown",
   "metadata": {},
   "source": [
    "**Maturity:** The boxplots for *PG-13, PG* and *R* movies are comparable to one another. There is however a noticeable jump when comparing them to the *Other* boxplot. Referring back to our univariate section we saw that 48 out of 69 (70%) of the *Other* movies were originally *Unrated*, so we can't really say too much about the specifics of this class. What we can say is that, due to this difference, *maturity* is a variable worth considering when building our linear regression model. <br /> \n",
    "\n",
    "**Studio:** We have a boxplot for each of the 4 studios that have produced the most movies, and a fifth that combines all of the other studios. When we arrange these 5 classes by increasing median we see that the *Other* boxplot occurs in the middle. It looks as though the median for *Other* is about midway between the medians of the other 4 boxplots. Let's inspect this further by collapsing those 4 studios into one before comparing to *Other*. "
   ]
  },
  {
   "cell_type": "code",
   "execution_count": 66,
   "metadata": {},
   "outputs": [],
   "source": [
    "movies$studio2 = movies$studio %>%\n",
    "  fct_collapse('Top4'=c('Paramount Pictures', 'Warner Bros. Pictures', 'Sony Pictures Home Entertainment', 'Universal Pictures'))"
   ]
  },
  {
   "cell_type": "code",
   "execution_count": 69,
   "metadata": {},
   "outputs": [
    {
     "data": {},
     "metadata": {},
     "output_type": "display_data"
    },
    {
     "data": {
      "image/png": "[encoded data removed]",
      "text/plain": [
       "plot without title"
      ]
     },
     "metadata": {},
     "output_type": "display_data"
    }
   ],
   "source": [
    "options(repr.plot.width=8, repr.plot.height=1.5)\n",
    "g17          \n",
    "#The code for g17 can be found at the end of this project."
   ]
  },
  {
   "cell_type": "markdown",
   "metadata": {},
   "source": [
    "When we compare the 4 most prolific studios combined to all of the other studios combined we see that their medians are exactly the same. Moreover, there are more bad movies (outliers) in *Other*, but not disproportionately more when taking into account class size (shown by the width of each box). However, by comparing the right whiskers we see that the maximum movie rating for a top-4 studio is higher than for any other studio, despite the smaller sample of movies being considered. <br /> \n",
    "\n",
    "**To summarize *Studio*:** It doesn't look seem as though *studio* will be a significant predictor of movie ratings, but it might offer some predictive value, so we will keep it in mind when building our linear regression model. <br />\n",
    "\n",
    "Before we conclude our bivariate analysis we will consider our time-related variables. "
   ]
  },
  {
   "cell_type": "code",
   "execution_count": 70,
   "metadata": {},
   "outputs": [
    {
     "data": {
      "image/png": "[encoded data removed]",
      "text/plain": [
       "plot without title"
      ]
     },
     "metadata": {},
     "output_type": "display_data"
    }
   ],
   "source": [
    "options(repr.plot.width=8, repr.plot.height=2.5)\n",
    "grid.arrange(g18,g19, nrow=1)\n",
    "#The code for g18 and g19 can be found at the end of this project."
   ]
  },
  {
   "cell_type": "markdown",
   "metadata": {},
   "source": [
    "**Theater Release Date:** There is no obvious change in movie ratings over the years, and if we were to make charts comparing IMDB ratings to theater release dates by month or day of the month then we would arrive at a similar conclusion. <br />  \n",
    "\n",
    "**Movie Length:** As for the movie length scatterplot, notice the empty box at the bottom-right of the graph. There is a reasonable sample size of movies that are greater than 129 minutes in length, none of which have an IMDB rating less than 5.6. This shows that moviegoers are generally satisfied with long movies. The movies that get poor ratings tend to be shorter, around 77-129 minutes in length. This might be a matter of sample size; we saw earlier that the movie length distribution is heavily weighted around 90 minute films. That being said, if movie ratings truly were uncorrelated to movie length, then we would expect the fraction of movies greater than 129 minutes that have an IMDB rating less than 5.6 would be comparable to the fraction of movies between 77-129 minutes that have an IMDB rating less than 5.6; in other words, we would expect at least *a few* long movies with poor ratings. That's not the case though. We are therefore encouraged to conclude that movie length is indeed positively correlated with movie rating. <br />  \n",
    "\n",
    "***Important reminder:***  *We need to be careful not to speak in the language of causality though. Are people satisfied with long movies because they prefer an extended experience, or could it instead be that there is a confounding variable positively driving both movie length and IMDB rating, such as movie budget? Such a question is out of the scope of this project, but it is something that would be interesting to look into in the future.*\n",
    "\n",
    "\n",
    "\n",
    "\n"
   ]
  },
  {
   "cell_type": "markdown",
   "metadata": {},
   "source": [
    "## Individual p-values\n",
    "\n",
    "We are now ready to compute the p-value for each of our explanatory variables when predicting *rating* individually. <br /> "
   ]
  },
  {
   "cell_type": "code",
   "execution_count": 75,
   "metadata": {},
   "outputs": [
    {
     "data": {
      "text/html": [
       "<table>\n",
       "<thead><tr><th scope=col>variable</th><th scope=col>pvalue</th><th scope=col>significant</th></tr></thead>\n",
       "<tbody>\n",
       "\t<tr><td>type         </td><td>4.19e-18     </td><td> TRUE        </td></tr>\n",
       "\t<tr><td>genre        </td><td>1.89e-31     </td><td> TRUE        </td></tr>\n",
       "\t<tr><td>length       </td><td>1.53e-11     </td><td> TRUE        </td></tr>\n",
       "\t<tr><td>maturity     </td><td>6.64e-10     </td><td> TRUE        </td></tr>\n",
       "\t<tr><td>studio       </td><td>1.52e-01     </td><td>FALSE        </td></tr>\n",
       "\t<tr><td>year         </td><td>4.84e-01     </td><td>FALSE        </td></tr>\n",
       "\t<tr><td>month        </td><td>4.37e-01     </td><td>FALSE        </td></tr>\n",
       "\t<tr><td>day          </td><td>7.57e-01     </td><td>FALSE        </td></tr>\n",
       "\t<tr><td>best_director</td><td>5.69e-04     </td><td> TRUE        </td></tr>\n",
       "\t<tr><td>best_actor   </td><td>9.40e-02     </td><td>FALSE        </td></tr>\n",
       "</tbody>\n",
       "</table>\n"
      ],
      "text/latex": [
       "\\begin{tabular}{r|lll}\n",
       " variable & pvalue & significant\\\\\n",
       "\\hline\n",
       "\t type          & 4.19e-18      &  TRUE        \\\\\n",
       "\t genre         & 1.89e-31      &  TRUE        \\\\\n",
       "\t length        & 1.53e-11      &  TRUE        \\\\\n",
       "\t maturity      & 6.64e-10      &  TRUE        \\\\\n",
       "\t studio        & 1.52e-01      & FALSE        \\\\\n",
       "\t year          & 4.84e-01      & FALSE        \\\\\n",
       "\t month         & 4.37e-01      & FALSE        \\\\\n",
       "\t day           & 7.57e-01      & FALSE        \\\\\n",
       "\t best\\_director & 5.69e-04        &  TRUE          \\\\\n",
       "\t best\\_actor    & 9.40e-02        & FALSE          \\\\\n",
       "\\end{tabular}\n"
      ],
      "text/markdown": [
       "\n",
       "variable | pvalue | significant | \n",
       "|---|---|---|---|---|---|---|---|---|---|\n",
       "| type          | 4.19e-18      |  TRUE         | \n",
       "| genre         | 1.89e-31      |  TRUE         | \n",
       "| length        | 1.53e-11      |  TRUE         | \n",
       "| maturity      | 6.64e-10      |  TRUE         | \n",
       "| studio        | 1.52e-01      | FALSE         | \n",
       "| year          | 4.84e-01      | FALSE         | \n",
       "| month         | 4.37e-01      | FALSE         | \n",
       "| day           | 7.57e-01      | FALSE         | \n",
       "| best_director | 5.69e-04      |  TRUE         | \n",
       "| best_actor    | 9.40e-02      | FALSE         | \n",
       "\n",
       "\n"
      ],
      "text/plain": [
       "   variable      pvalue   significant\n",
       "1  type          4.19e-18  TRUE      \n",
       "2  genre         1.89e-31  TRUE      \n",
       "3  length        1.53e-11  TRUE      \n",
       "4  maturity      6.64e-10  TRUE      \n",
       "5  studio        1.52e-01 FALSE      \n",
       "6  year          4.84e-01 FALSE      \n",
       "7  month         4.37e-01 FALSE      \n",
       "8  day           7.57e-01 FALSE      \n",
       "9  best_director 5.69e-04  TRUE      \n",
       "10 best_actor    9.40e-02 FALSE      "
      ]
     },
     "metadata": {},
     "output_type": "display_data"
    }
   ],
   "source": [
    "tibble(variable = colnames(movies)[3:12], pvalue = signif(pvalue,3), significant=pvalue<0.05)\n",
    "#The code for pvalue can be found at the end of this project in the \"Computing p-values\" section"
   ]
  },
  {
   "cell_type": "markdown",
   "metadata": {},
   "source": [
    "There is consistency between what we saw in our bivariate analysis section and the p-values:\n",
    "\n",
    "•**The significant individual predictors of *rating*** (p-value < 0.05)**:**  *type*, *genre*, *length*, *maturity*, *best_director* <br /> This is consistent with what we predicted from our bivariate analysis.\n",
    "\n",
    "•**The insignificant individual predictor of *rating*:** *best_actor* <br /> With a p-value of 0.094 it is somewhat close to being significant but doesn't quite make the cut. <br /> This is consistent with what we hypothesized in our bivariate analysis, that *best_director* would be significant but *best_actor* wouldn't.\n",
    "\n",
    "•**The very insignificant individual predictors of *rating*** (p-value > 0.15)**:** *studio*, *year*, *month*, *day* <br />\n",
    "This is consistent with what we observed in our bivariate analysis. "
   ]
  },
  {
   "cell_type": "markdown",
   "metadata": {},
   "source": [
    "### Multicollinearity\n",
    "\n",
    "There could be multicollinearity among the significant individual predictors. In particular, both *type* and *genre* have the *Documentary* class, and this class has the highest ratings for both. Let's compare them: "
   ]
  },
  {
   "cell_type": "code",
   "execution_count": 34,
   "metadata": {},
   "outputs": [
    {
     "data": {
      "text/html": [
       "<table>\n",
       "<thead><tr><th></th><th scope=col>Estimate</th><th scope=col>Std. Error</th><th scope=col>t value</th><th scope=col>Pr(&gt;|t|)</th></tr></thead>\n",
       "<tbody>\n",
       "\t<tr><th scope=row>typeFeature Film</th><td>-0.853  </td><td>0.347   </td><td>-2.46   </td><td>1.42e-02</td></tr>\n",
       "\t<tr><th scope=row>genreDrama</th><td> 0.704  </td><td>0.129   </td><td> 5.44   </td><td>7.80e-08</td></tr>\n",
       "</tbody>\n",
       "</table>\n"
      ],
      "text/latex": [
       "\\begin{tabular}{r|llll}\n",
       "  & Estimate & Std. Error & t value & Pr(>\\textbar{}t\\textbar{})\\\\\n",
       "\\hline\n",
       "\ttypeFeature Film & -0.853   & 0.347    & -2.46    & 1.42e-02\\\\\n",
       "\tgenreDrama &  0.704   & 0.129    &  5.44    & 7.80e-08\\\\\n",
       "\\end{tabular}\n"
      ],
      "text/markdown": [
       "\n",
       "| <!--/--> | Estimate | Std. Error | t value | Pr(>|t|) | \n",
       "|---|---|\n",
       "| typeFeature Film | -0.853   | 0.347    | -2.46    | 1.42e-02 | \n",
       "| genreDrama |  0.704   | 0.129    |  5.44    | 7.80e-08 | \n",
       "\n",
       "\n"
      ],
      "text/plain": [
       "                 Estimate Std. Error t value Pr(>|t|)\n",
       "typeFeature Film -0.853   0.347      -2.46   1.42e-02\n",
       "genreDrama        0.704   0.129       5.44   7.80e-08"
      ]
     },
     "metadata": {},
     "output_type": "display_data"
    }
   ],
   "source": [
    "lineDocumentary = lm(rating ~ type+genre, data=movies)\n",
    "signif(summary(lineDocumentary)$coefficients[c(2,7),], 3)"
   ]
  },
  {
   "cell_type": "markdown",
   "metadata": {},
   "source": [
    "The variables *type* and *genre* have small individual p-values when predicting *rating* (4.19e-18 and 1.89e-31). When we build a model that includes both variables we see that they once again have factors with small p-values, despite the correlation between *type* and *genre*. <br /> \n",
    "\n",
    "We could continue by making a similar comparison for every pair of significant variables. For example, we might suspect that *genre* and *maturity* are highly correlated (horror films are more likely to be rated R). It might also be that *length* and *genre* are highly correlated (movies for children are more likely to be shorter). However, with just 10 explanatory variables available to us, only 5 of which were shown to be significant predictors of movie ratings, it's probably best to just keep them all. "
   ]
  },
  {
   "cell_type": "markdown",
   "metadata": {},
   "source": [
    "## Linear Regression"
   ]
  },
  {
   "cell_type": "markdown",
   "metadata": {},
   "source": [
    "### Model with significant predictors"
   ]
  },
  {
   "cell_type": "markdown",
   "metadata": {},
   "source": [
    "Let's first build the multiple regression model which predicts *rating* from the 5 significant predictors:"
   ]
  },
  {
   "cell_type": "code",
   "execution_count": 82,
   "metadata": {},
   "outputs": [
    {
     "data": {
      "text/plain": [
       "\n",
       "Call:\n",
       "lm(formula = rating ~ type + genre + length + maturity + best_director, \n",
       "    data = movies)\n",
       "\n",
       "Residuals:\n",
       "    Min      1Q  Median      3Q     Max \n",
       "-3.8746 -0.4952  0.0512  0.5821  1.9761 \n",
       "\n",
       "Coefficients:\n",
       "                                Estimate Std. Error t value Pr(>|t|)    \n",
       "(Intercept)                     5.806251   0.415780  13.965  < 2e-16 ***\n",
       "typeFeature Film               -0.757860   0.333623  -2.272  0.02345 *  \n",
       "genreAnimation                 -0.093337   0.333755  -0.280  0.77983    \n",
       "genreArt House & International  0.551802   0.268971   2.052  0.04063 *  \n",
       "genreComedy                    -0.109635   0.149537  -0.733  0.46373    \n",
       "genreDocumentary                0.839697   0.356689   2.354  0.01887 *  \n",
       "genreDrama                      0.593732   0.125934   4.715 2.98e-06 ***\n",
       "genreHorror                    -0.161392   0.223265  -0.723  0.47003    \n",
       "genreMusical & Performing Arts  0.858861   0.305307   2.813  0.00506 ** \n",
       "genreMystery & Suspense         0.383836   0.166064   2.311  0.02113 *  \n",
       "genreOther                      0.713082   0.259602   2.747  0.00619 ** \n",
       "genreScience Fiction & Fantasy -0.258119   0.321272  -0.803  0.42203    \n",
       "length                          0.012220   0.002015   6.065 2.28e-09 ***\n",
       "maturityPG                     -0.362848   0.158824  -2.285  0.02267 *  \n",
       "maturityPG-13                  -0.600937   0.162671  -3.694  0.00024 ***\n",
       "maturityR                      -0.289270   0.149208  -1.939  0.05298 .  \n",
       "best_directoryes                0.425719   0.147814   2.880  0.00411 ** \n",
       "---\n",
       "Signif. codes:  0 '***' 0.001 '**' 0.01 '*' 0.05 '.' 0.1 ' ' 1\n",
       "\n",
       "Residual standard error: 0.9021 on 629 degrees of freedom\n",
       "Multiple R-squared:  0.3167,\tAdjusted R-squared:  0.2993 \n",
       "F-statistic: 18.22 on 16 and 629 DF,  p-value: < 2.2e-16\n"
      ]
     },
     "metadata": {},
     "output_type": "display_data"
    }
   ],
   "source": [
    "lineSignificant = lm(rating ~ type+genre+length+maturity+best_director, data=movies)\n",
    "summary(lineSignificant)"
   ]
  },
  {
   "cell_type": "markdown",
   "metadata": {},
   "source": [
    "**Regression Analysis:** We see that the adjusted R-squared is 0.2993, which isn't spectacular but is still sufficient to offer a predictive edge over blind guessing movie quality. There are numerous encouraging details when we inspect the p-values and coefficient signs in this model:"
   ]
  },
  {
   "cell_type": "code",
   "execution_count": 86,
   "metadata": {},
   "outputs": [
    {
     "data": {
      "text/html": [
       "<table>\n",
       "<thead><tr><th></th><th scope=col>Estimate</th><th scope=col>Std. Error</th><th scope=col>t value</th><th scope=col>Pr(&gt;|t|)</th></tr></thead>\n",
       "<tbody>\n",
       "\t<tr><th scope=row>typeFeature Film</th><td>-0.7580 </td><td>0.33400 </td><td>-2.27   </td><td>2.34e-02</td></tr>\n",
       "\t<tr><th scope=row>genreDrama</th><td> 0.5940 </td><td>0.12600 </td><td> 4.71   </td><td>2.98e-06</td></tr>\n",
       "\t<tr><th scope=row>length</th><td> 0.0122 </td><td>0.00202 </td><td> 6.06   </td><td>2.28e-09</td></tr>\n",
       "\t<tr><th scope=row>maturityPG</th><td>-0.3630 </td><td>0.15900 </td><td>-2.28   </td><td>2.27e-02</td></tr>\n",
       "\t<tr><th scope=row>maturityPG-13</th><td>-0.6010 </td><td>0.16300 </td><td>-3.69   </td><td>2.40e-04</td></tr>\n",
       "\t<tr><th scope=row>maturityR</th><td>-0.2890 </td><td>0.14900 </td><td>-1.94   </td><td>5.30e-02</td></tr>\n",
       "\t<tr><th scope=row>best_directoryes</th><td> 0.4260 </td><td>0.14800 </td><td> 2.88   </td><td>4.11e-03</td></tr>\n",
       "</tbody>\n",
       "</table>\n"
      ],
      "text/latex": [
       "\\begin{tabular}{r|llll}\n",
       "  & Estimate & Std. Error & t value & Pr(>\\textbar{}t\\textbar{})\\\\\n",
       "\\hline\n",
       "\ttypeFeature Film & -0.7580  & 0.33400  & -2.27    & 2.34e-02\\\\\n",
       "\tgenreDrama &  0.5940  & 0.12600  &  4.71    & 2.98e-06\\\\\n",
       "\tlength &  0.0122  & 0.00202  &  6.06    & 2.28e-09\\\\\n",
       "\tmaturityPG & -0.3630  & 0.15900  & -2.28    & 2.27e-02\\\\\n",
       "\tmaturityPG-13 & -0.6010  & 0.16300  & -3.69    & 2.40e-04\\\\\n",
       "\tmaturityR & -0.2890  & 0.14900  & -1.94    & 5.30e-02\\\\\n",
       "\tbest\\_directoryes &  0.4260  & 0.14800  &  2.88    & 4.11e-03\\\\\n",
       "\\end{tabular}\n"
      ],
      "text/markdown": [
       "\n",
       "| <!--/--> | Estimate | Std. Error | t value | Pr(>|t|) | \n",
       "|---|---|---|---|---|---|---|\n",
       "| typeFeature Film | -0.7580  | 0.33400  | -2.27    | 2.34e-02 | \n",
       "| genreDrama |  0.5940  | 0.12600  |  4.71    | 2.98e-06 | \n",
       "| length |  0.0122  | 0.00202  |  6.06    | 2.28e-09 | \n",
       "| maturityPG | -0.3630  | 0.15900  | -2.28    | 2.27e-02 | \n",
       "| maturityPG-13 | -0.6010  | 0.16300  | -3.69    | 2.40e-04 | \n",
       "| maturityR | -0.2890  | 0.14900  | -1.94    | 5.30e-02 | \n",
       "| best_directoryes |  0.4260  | 0.14800  |  2.88    | 4.11e-03 | \n",
       "\n",
       "\n"
      ],
      "text/plain": [
       "                 Estimate Std. Error t value Pr(>|t|)\n",
       "typeFeature Film -0.7580  0.33400    -2.27   2.34e-02\n",
       "genreDrama        0.5940  0.12600     4.71   2.98e-06\n",
       "length            0.0122  0.00202     6.06   2.28e-09\n",
       "maturityPG       -0.3630  0.15900    -2.28   2.27e-02\n",
       "maturityPG-13    -0.6010  0.16300    -3.69   2.40e-04\n",
       "maturityR        -0.2890  0.14900    -1.94   5.30e-02\n",
       "best_directoryes  0.4260  0.14800     2.88   4.11e-03"
      ]
     },
     "metadata": {},
     "output_type": "display_data"
    }
   ],
   "source": [
    "signif(summary(lineSignificant)$coefficients[c(2,7,13:17),], 3)"
   ]
  },
  {
   "cell_type": "markdown",
   "metadata": {},
   "source": [
    "**p-value:** Each of the variables has at least one class that has a p-value < 0.05. <br />\n",
    "\n",
    "**Coefficient signs** (looking at the *Estimate* column)**:** <br />\n",
    "•*typeFeature Film* is negative; with all other variables held constant, documentaries rate higher than feature films. <br />\n",
    "•*length* is positive; with all other variables held constant, longer movies rate higher. <br />\n",
    "•*maturityPG, maturityPG-13* and *maturityR* are negative; with all other variables held constant, movies from the *maturityOther* class rate the highest. <br />\n",
    "•*best_directoryes* is positive; with all other variables held constant, movies that are directed by an Oscar winner rate higher than those that aren't.\n",
    "\n",
    "These coefficient signs are encouraging because they agree with what we found in our bivariate analysis for each of these variables. "
   ]
  },
  {
   "cell_type": "markdown",
   "metadata": {},
   "source": [
    "### All possible models approach"
   ]
  },
  {
   "cell_type": "markdown",
   "metadata": {},
   "source": [
    "When in search of the optimal subset of predictors for a model it would generally be a bad strategy to construct every model and extract the one with the best evaluation metric value due to the exponential growth of the number of models to be tested. In our case however we only have 10 candidate predictors, which amounts to a mere 2^10 = 1024 models. In this section we will take the approach of building each of the possible models and extracting the best one before comparing it to *lineSignificant*. <br /> \n",
    "\n",
    "To build all 1024 models we will use the *all.possible.regressions()* function, whose code can be found at the end of this project. "
   ]
  },
  {
   "cell_type": "code",
   "execution_count": 87,
   "metadata": {},
   "outputs": [],
   "source": [
    "#This function requires that our target variable be renamed y and our explanatory variables as x1, x2, x3, ... \n",
    "moviesALL = movies %>% \n",
    "  select(y=rating, x1=type, x2=genre, x3=length, x4=maturity, x5=studio, x6=year, x7=month, x8=day, x9=best_director, x10=best_actor)\n",
    "\n",
    "#This is a dataframe that includes all 1024 models and their adjusted R-squared values, among other metrics.\n",
    "apr = all.possible.regressions(moviesALL,10)"
   ]
  },
  {
   "cell_type": "markdown",
   "metadata": {},
   "source": [
    "This is how a typical row in the *apr* data frame looks:"
   ]
  },
  {
   "cell_type": "code",
   "execution_count": 88,
   "metadata": {},
   "outputs": [
    {
     "data": {
      "text/html": [
       "<table>\n",
       "<thead><tr><th></th><th scope=col>model</th><th scope=col>df.sse</th><th scope=col>p</th><th scope=col>SSE</th><th scope=col>MSE</th><th scope=col>R2</th><th scope=col>R2.adj</th><th scope=col>AIC</th><th scope=col>BIC</th></tr></thead>\n",
       "<tbody>\n",
       "\t<tr><th scope=row>345</th><td>y ~ 1+x1+x2+x3+x6+x8+x10</td><td>630                     </td><td>15                      </td><td>530.7348                </td><td>0.8424361               </td><td>0.2914964               </td><td>0.2746272               </td><td>4087.174                </td><td>4163.177                </td></tr>\n",
       "</tbody>\n",
       "</table>\n"
      ],
      "text/latex": [
       "\\begin{tabular}{r|lllllllll}\n",
       "  & model & df.sse & p & SSE & MSE & R2 & R2.adj & AIC & BIC\\\\\n",
       "\\hline\n",
       "\t345 & y \\textasciitilde{} 1+x1+x2+x3+x6+x8+x10 & 630                                       & 15                                        & 530.7348                                  & 0.8424361                                 & 0.2914964                                 & 0.2746272                                 & 4087.174                                  & 4163.177                                 \\\\\n",
       "\\end{tabular}\n"
      ],
      "text/markdown": [
       "\n",
       "| <!--/--> | model | df.sse | p | SSE | MSE | R2 | R2.adj | AIC | BIC | \n",
       "|---|\n",
       "| 345 | y ~ 1+x1+x2+x3+x6+x8+x10 | 630                      | 15                       | 530.7348                 | 0.8424361                | 0.2914964                | 0.2746272                | 4087.174                 | 4163.177                 | \n",
       "\n",
       "\n"
      ],
      "text/plain": [
       "    model                    df.sse p  SSE      MSE       R2        R2.adj   \n",
       "345 y ~ 1+x1+x2+x3+x6+x8+x10 630    15 530.7348 0.8424361 0.2914964 0.2746272\n",
       "    AIC      BIC     \n",
       "345 4087.174 4163.177"
      ]
     },
     "metadata": {},
     "output_type": "display_data"
    }
   ],
   "source": [
    "apr[345,]"
   ]
  },
  {
   "cell_type": "markdown",
   "metadata": {},
   "source": [
    "We are interested in the model with the highest adjusted R-squared (*R2.adj*):"
   ]
  },
  {
   "cell_type": "code",
   "execution_count": 89,
   "metadata": {},
   "outputs": [
    {
     "data": {
      "text/html": [
       "<table>\n",
       "<thead><tr><th scope=col>model</th><th scope=col>R2.adj</th></tr></thead>\n",
       "<tbody>\n",
       "\t<tr><td>y ~ 1+x1+x2+x3+x4+x5+x6+x9</td><td>0.3127                    </td></tr>\n",
       "</tbody>\n",
       "</table>\n"
      ],
      "text/latex": [
       "\\begin{tabular}{r|ll}\n",
       " model & R2.adj\\\\\n",
       "\\hline\n",
       "\t y \\textasciitilde{} 1+x1+x2+x3+x4+x5+x6+x9 & 0.3127                                     \\\\\n",
       "\\end{tabular}\n"
      ],
      "text/markdown": [
       "\n",
       "model | R2.adj | \n",
       "|---|\n",
       "| y ~ 1+x1+x2+x3+x4+x5+x6+x9 | 0.3127                     | \n",
       "\n",
       "\n"
      ],
      "text/plain": [
       "  model                      R2.adj\n",
       "1 y ~ 1+x1+x2+x3+x4+x5+x6+x9 0.3127"
      ]
     },
     "metadata": {},
     "output_type": "display_data"
    }
   ],
   "source": [
    "m = which.max(apr$R2.adj)\n",
    "tibble(model=apr$model[m], R2.adj=round(apr$R2.adj[m],4))"
   ]
  },
  {
   "cell_type": "markdown",
   "metadata": {},
   "source": [
    "The adjusted R-squared has increased somewhat, from 0.2993 for the model using the 5 significant predictors, to 0.3127 using variables x1-x6 and x9. Translating back into our original variable names, this model uses *type, genre, length, maturity, studio, year* and *best_director*. Encouragingly, this model includes all of the 5 significant predictors. It also include 2 others that we missed previously, *studio* and *year*, which goes to show that taking an all possible models approach might be the best default strategy in the future when data frames are small like the one in this project. <br /> \n",
    "\n",
    "Let's now build this model and inspect its summary:  \n",
    "(*Note: We won't include the full summary, which would be long due to one-hot encoding for each of the categorical variables.*)"
   ]
  },
  {
   "cell_type": "code",
   "execution_count": 90,
   "metadata": {},
   "outputs": [
    {
     "data": {
      "text/html": [
       "<table>\n",
       "<thead><tr><th></th><th scope=col>Estimate</th><th scope=col>Std. Error</th><th scope=col>t value</th><th scope=col>Pr(&gt;|t|)</th><th scope=col>significance</th></tr></thead>\n",
       "<tbody>\n",
       "\t<tr><th scope=row>typeFeature Film</th><td>-0.828  </td><td>0.332   </td><td>-2.5    </td><td>0.0128  </td><td>*       </td></tr>\n",
       "\t<tr><th scope=row>genreDrama</th><td>0.645   </td><td>0.125   </td><td>5.14    </td><td>3.62e-07</td><td>***     </td></tr>\n",
       "\t<tr><th scope=row>length</th><td>0.0108  </td><td>0.00204 </td><td>5.28    </td><td>1.82e-07</td><td>***     </td></tr>\n",
       "\t<tr><th scope=row>maturityPG-13</th><td>-0.637  </td><td>0.164   </td><td>-3.89   </td><td>0.00011 </td><td>***     </td></tr>\n",
       "\t<tr><th scope=row>studioSony Pictures Home Entertainment</th><td>-0.503  </td><td>0.231   </td><td>-2.18   </td><td>0.0297  </td><td>*       </td></tr>\n",
       "\t<tr><th scope=row>year</th><td>-0.00472</td><td>0.00349 </td><td>-1.35   </td><td>0.178   </td><td>        </td></tr>\n",
       "\t<tr><th scope=row>best_directoryes</th><td>0.434   </td><td>0.147   </td><td>2.95    </td><td>0.0033  </td><td>**      </td></tr>\n",
       "</tbody>\n",
       "</table>\n"
      ],
      "text/latex": [
       "\\begin{tabular}{r|lllll}\n",
       "  & Estimate & Std. Error & t value & Pr(>\\textbar{}t\\textbar{}) & significance\\\\\n",
       "\\hline\n",
       "\ttypeFeature Film & -0.828   & 0.332    & -2.5     & 0.0128   & *       \\\\\n",
       "\tgenreDrama & 0.645    & 0.125    & 5.14     & 3.62e-07 & ***     \\\\\n",
       "\tlength & 0.0108   & 0.00204  & 5.28     & 1.82e-07 & ***     \\\\\n",
       "\tmaturityPG-13 & -0.637   & 0.164    & -3.89    & 0.00011  & ***     \\\\\n",
       "\tstudioSony Pictures Home Entertainment & -0.503   & 0.231    & -2.18    & 0.0297   & *       \\\\\n",
       "\tyear & -0.00472 & 0.00349  & -1.35    & 0.178    &         \\\\\n",
       "\tbest\\_directoryes & 0.434    & 0.147    & 2.95     & 0.0033   & **      \\\\\n",
       "\\end{tabular}\n"
      ],
      "text/markdown": [
       "\n",
       "| <!--/--> | Estimate | Std. Error | t value | Pr(>|t|) | significance | \n",
       "|---|---|---|---|---|---|---|\n",
       "| typeFeature Film | -0.828   | 0.332    | -2.5     | 0.0128   | *        | \n",
       "| genreDrama | 0.645    | 0.125    | 5.14     | 3.62e-07 | ***      | \n",
       "| length | 0.0108   | 0.00204  | 5.28     | 1.82e-07 | ***      | \n",
       "| maturityPG-13 | -0.637   | 0.164    | -3.89    | 0.00011  | ***      | \n",
       "| studioSony Pictures Home Entertainment | -0.503   | 0.231    | -2.18    | 0.0297   | *        | \n",
       "| year | -0.00472 | 0.00349  | -1.35    | 0.178    |          | \n",
       "| best_directoryes | 0.434    | 0.147    | 2.95     | 0.0033   | **       | \n",
       "\n",
       "\n"
      ],
      "text/plain": [
       "                                       Estimate Std. Error t value Pr(>|t|)\n",
       "typeFeature Film                       -0.828   0.332      -2.5    0.0128  \n",
       "genreDrama                             0.645    0.125      5.14    3.62e-07\n",
       "length                                 0.0108   0.00204    5.28    1.82e-07\n",
       "maturityPG-13                          -0.637   0.164      -3.89   0.00011 \n",
       "studioSony Pictures Home Entertainment -0.503   0.231      -2.18   0.0297  \n",
       "year                                   -0.00472 0.00349    -1.35   0.178   \n",
       "best_directoryes                       0.434    0.147      2.95    0.0033  \n",
       "                                       significance\n",
       "typeFeature Film                       *           \n",
       "genreDrama                             ***         \n",
       "length                                 ***         \n",
       "maturityPG-13                          ***         \n",
       "studioSony Pictures Home Entertainment *           \n",
       "year                                               \n",
       "best_directoryes                       **          "
      ]
     },
     "metadata": {},
     "output_type": "display_data"
    }
   ],
   "source": [
    "lineBest = lm(rating~type+genre+length+maturity+studio+year+best_director, data=movies)\n",
    "\n",
    "#Include particular features of interest generated by one-hot encoding, rounded to 3 significant figures:\n",
    "summaryBest = summary(lineBest)$coefficients[c(2,7,13,15,17,21,22 ),]\n",
    "summaryBest = signif(sla,3)\n",
    "\n",
    "#Display the significance codes for the selected features to be displayed:\n",
    "cbind(summaryBest, significance=c(\"*\", \"***\", \"***\", \"***\", \"*\", \"\", \"**\"))"
   ]
  },
  {
   "cell_type": "markdown",
   "metadata": {},
   "source": [
    "**Some observations about the significances and coefficients (*Estimates*):** <br /> \n",
    "\n",
    " \n",
    "\n",
    "•The coefficients for *best_directoryes* and *length* are positive, and for *typeFeature Film* are negative. This is in agreement with what we concluded before: longer movies or movies directed by an Oscar-winner are more likely to receive higher ratings, and feature films are more likely to receive a lower rating than documentaries. <br /> <br />\n",
    "•If we were to print the full summary we would see that *drama* is the most significant predictor of *rating* among the different genres. This is likely a consequence of the fact that our dataset is comprised of disproportionately-many drama movies. <br/ > <br/ >\n",
    "•*length*, as well as at least one class from *genre* and *maturity* each, have \\*\\*\\* significances -- no surprise given that we have suspected they are strongly correlated with movie ratings all along. <br /> <br />\n",
    "•*best_director* receives a significance of \\*\\*. I imagined it would have been \\*\\*\\*, but \\*\\* isn't so far off. I'm more surprised by the single \\* significance from the *type* variable, given the significant difference between the *Feature Film* and *Documentary* boxplots. This is likely due to the correlation between *type* and *genre*. <br /> <br />\n",
    "•There is a single class from *studio* that has a significance of \\*, and if we were to print the full summary we would see that this is the only class with a p-value less than 0.05. This variable in a sense 'just made the cut' with regards to being statistically significant, which helps explain why it slipped under the radar in the bivariate section when we concluded it is not a significant predictor of movie ratings. <br /> <br />\n",
    "•*year* is not significant in this model (even though its inclusion in the model improves the adjusted R-squared).\n",
    "\n",
    "\n",
    "\n"
   ]
  },
  {
   "cell_type": "markdown",
   "metadata": {},
   "source": [
    "## Prediction"
   ]
  },
  {
   "cell_type": "markdown",
   "metadata": {},
   "source": [
    "We avoided using the holdout method to split our original dataset into training and testing (and possibly validation) sets due to our small sample size. To make a few IMDB rating predictions we instead used the following link to randomly generate 4 movies: https://www.randomlists.com/random-movies. The movies generated were: <br /> \n",
    "\n",
    "•*Mission Impossible - Fallout <br />\n",
    "•Birdman <br />\n",
    "•Despicable Me 3 <br />\n",
    "•Ant-Man* <br />\n"
   ]
  },
  {
   "cell_type": "markdown",
   "metadata": {},
   "source": [
    "We can then look up the feature values for each of these movies on Wikipedia and the IMDB website and then use them to make movie rating predictions. <br />\n",
    "(*Note: it is unclear how the 'genre' variable is determined in our 'movies' dataset given that movies on IMDB can be classified under multiple genres. We therefore had to do some guesswork.*)"
   ]
  },
  {
   "cell_type": "code",
   "execution_count": 41,
   "metadata": {},
   "outputs": [
    {
     "data": {
      "text/html": [
       "<table>\n",
       "<thead><tr><th scope=col>title</th><th scope=col>ratingIMDB</th><th scope=col>ratingPredicted</th><th scope=col>ratingDifference</th><th scope=col>predIntervalMin</th><th scope=col>predIntervalMax</th><th scope=col>predIntervalLength</th></tr></thead>\n",
       "<tbody>\n",
       "\t<tr><td>Mission Impossible - Fallout</td><td>8.1                         </td><td>6.6                         </td><td>1.5                         </td><td>4.8                         </td><td>8.5                         </td><td>3.7                         </td></tr>\n",
       "\t<tr><td>Birdman                     </td><td>7.7                         </td><td>7.1                         </td><td>0.6                         </td><td>5.4                         </td><td>8.9                         </td><td>3.5                         </td></tr>\n",
       "\t<tr><td>Despicable Me 3             </td><td>6.3                         </td><td>6.1                         </td><td>0.2                         </td><td>4.3                         </td><td>7.9                         </td><td>3.6                         </td></tr>\n",
       "\t<tr><td>Ant-Man                     </td><td>7.3                         </td><td>6.1                         </td><td>1.2                         </td><td>4.3                         </td><td>7.9                         </td><td>3.6                         </td></tr>\n",
       "</tbody>\n",
       "</table>\n"
      ],
      "text/latex": [
       "\\begin{tabular}{r|lllllll}\n",
       " title & ratingIMDB & ratingPredicted & ratingDifference & predIntervalMin & predIntervalMax & predIntervalLength\\\\\n",
       "\\hline\n",
       "\t Mission Impossible - Fallout & 8.1                          & 6.6                          & 1.5                          & 4.8                          & 8.5                          & 3.7                         \\\\\n",
       "\t Birdman                      & 7.7                          & 7.1                          & 0.6                          & 5.4                          & 8.9                          & 3.5                         \\\\\n",
       "\t Despicable Me 3              & 6.3                          & 6.1                          & 0.2                          & 4.3                          & 7.9                          & 3.6                         \\\\\n",
       "\t Ant-Man                      & 7.3                          & 6.1                          & 1.2                          & 4.3                          & 7.9                          & 3.6                         \\\\\n",
       "\\end{tabular}\n"
      ],
      "text/markdown": [
       "\n",
       "title | ratingIMDB | ratingPredicted | ratingDifference | predIntervalMin | predIntervalMax | predIntervalLength | \n",
       "|---|---|---|---|\n",
       "| Mission Impossible - Fallout | 8.1                          | 6.6                          | 1.5                          | 4.8                          | 8.5                          | 3.7                          | \n",
       "| Birdman                      | 7.7                          | 7.1                          | 0.6                          | 5.4                          | 8.9                          | 3.5                          | \n",
       "| Despicable Me 3              | 6.3                          | 6.1                          | 0.2                          | 4.3                          | 7.9                          | 3.6                          | \n",
       "| Ant-Man                      | 7.3                          | 6.1                          | 1.2                          | 4.3                          | 7.9                          | 3.6                          | \n",
       "\n",
       "\n"
      ],
      "text/plain": [
       "  title                        ratingIMDB ratingPredicted ratingDifference\n",
       "1 Mission Impossible - Fallout 8.1        6.6             1.5             \n",
       "2 Birdman                      7.7        7.1             0.6             \n",
       "3 Despicable Me 3              6.3        6.1             0.2             \n",
       "4 Ant-Man                      7.3        6.1             1.2             \n",
       "  predIntervalMin predIntervalMax predIntervalLength\n",
       "1 4.8             8.5             3.7               \n",
       "2 5.4             8.9             3.5               \n",
       "3 4.3             7.9             3.6               \n",
       "4 4.3             7.9             3.6               "
      ]
     },
     "metadata": {},
     "output_type": "display_data"
    }
   ],
   "source": [
    "#Gather the new data\n",
    "moviesTest = tibble( \n",
    "  title = c(\"Mission Impossible - Fallout\", \"Birdman\", \"Despicable Me 3\", \"Ant-Man\"),\n",
    "  rating = c(8.1, 7.7, 6.3, 7.3), \n",
    "  type = as.factor(c(\"Feature Film\", \"Feature Film\", \"Feature Film\", \"Feature Film\")),\n",
    "  genre = as.factor(c(\"Action & Adventure\", \"Drama\", \"Action & Adventure\", \"Action & Adventure\")),\n",
    "  length = c(147, 119, 89, 117),\n",
    "  maturity = as.factor(c(\"PG-13\", \"R\", \"PG\", \"PG-13\")),\n",
    "  studio = as.factor(c(\"Paramount Pictures\", \"Other\",  \"Universal Pictures\", \"Other\")),\n",
    "  year = c(2018, 2014, 2017, 2015),\n",
    "  best_director = as.factor(c(\"yes\", \"yes\", \"no\", \"yes\"))\n",
    ")\n",
    "\n",
    "#Make predictions\n",
    "predictionsTest = predict(lineBest, newdata=moviesTest, interval=\"predict\")  %>% \n",
    "  round(1) %>%\n",
    "  as.data.frame()\n",
    "\n",
    "tibble(\n",
    "  title = c(\"Mission Impossible - Fallout\", \"Birdman\", \"Despicable Me 3\", \"Ant-Man\"),\n",
    "  ratingIMDB = c(8.1, 7.7, 6.3, 7.3),\n",
    "  ratingPredicted = predictionsTest$fit,\n",
    "  ratingDifference = ratingIMDB-ratingPredicted,\n",
    "  predIntervalMin = predictionsTest$lwr,    #Min and Max give the bounds for predictive intervals\n",
    "  predIntervalMax = predictionsTest$upr,\n",
    "  predIntervalLength = predIntervalMax-predIntervalMin\n",
    ")"
   ]
  },
  {
   "cell_type": "markdown",
   "metadata": {},
   "source": [
    "It's impossible to tell from just 4 test points how well our model has done. On the one hand, an error of 0.2 points out of 10 (2%) sounds reasonable, but on the other hand, an error of 1.5 out of 10 (15%) does not. Moreover, the lengths of the predictive intervals are all at least 3.5 out of 10 (35%), which is quite large. To obtain a more trustworthy estimate for our out-of-sample adjusted R-squared we would need to acquire a bigger dataset."
   ]
  },
  {
   "cell_type": "markdown",
   "metadata": {},
   "source": [
    "\n",
    "## Conclusion"
   ]
  },
  {
   "cell_type": "markdown",
   "metadata": {},
   "source": [
    "In this project we successfully identified 5 significant individual predictors of IMDB movie ratings: genre, length, maturity rating, whether or not the director has won an Oscar for any movie, and whether the movie is a feature film or a documentary. We built a linear regression model that uses these 5 explanatory variables to predict movie ratings with some success (adjusted R-squared: 0.2993). We then computed the adjusted R-squared for all possible models from our chosen set of 10 variables and selected the best one, which offered a slight improvement (adjusted R-squared: 0.3127). It was encouraging to see that all of the 5 significant individual predictors are included in this model. While the adjusted R-squared values are not very impressive, this has been the expected case since the beginning of this project given the small size of our dataset. <br /> \n",
    "\n",
    "If we could get our hands on a bigger dataset in the future then it might be worth further exploring the noticeable difference in movie ratings between feature films and documentaries. *Did the median documentary rate a full point higher than the median feature film due to a genuine difference in these scores, or is the difference a matter of variance caused by the small sample size for the 'documentary' class?* It would also be worth giving best actor's a second chance; our bivariate analysis concluded that having a best actor in the cast is not a predictor of better movie ratings. From an intuitive perspective, this doesn't sound right and is again likely due to variance in our dataset caused by its small sample size. We could explore whether longer movies predict better ratings for direct reasons (causation) or for indirect reasons (correlation). There are numerous directions in which this project could be extended, but they will have to wait for another time.  <br /> \n",
    "\n",
    "And now as I put the finishing touches on this project I find myself wondering what I should do next. Watching a movie sounds like an appetizing idea! I think I'll check out the highest rated movie from the dataset:"
   ]
  },
  {
   "cell_type": "code",
   "execution_count": 189,
   "metadata": {},
   "outputs": [
    {
     "data": {
      "text/html": [
       "'The Godfather, Part II'"
      ],
      "text/latex": [
       "'The Godfather, Part II'"
      ],
      "text/markdown": [
       "'The Godfather, Part II'"
      ],
      "text/plain": [
       "[1] \"The Godfather, Part II\""
      ]
     },
     "metadata": {},
     "output_type": "display_data"
    }
   ],
   "source": [
    "k = which.max(movies$rating)\n",
    "as.character(movies$title[k])"
   ]
  },
  {
   "cell_type": "markdown",
   "metadata": {},
   "source": [
    "Thanks for reading. Over time I intend to create many data projects like this one as a way to continue improving my data analysis skills. Feel free to check back to my GitHub page in the future, which is where I will post my projects."
   ]
  },
  {
   "cell_type": "markdown",
   "metadata": {},
   "source": [
    "# \\/\\/\\/\\/\\/\\/\\/\\/\\/\\/\\/\\/\\/\\/\\/\\/\\/\\/\\/\\/\\/\\/\\/\\/\\/\\/\\/\\/\\/\\/\\/\\/\\/\\/\\/\\/\\/\\/\\/\\/\\/\\/\\/\\/\\/\\/\\/\\/\\/\\/\\/\\/\\/\\/\\/\\/\\/\\/\\/\\/\\/\\/\\/\\/\\/"
   ]
  },
  {
   "cell_type": "markdown",
   "metadata": {},
   "source": [
    "## Extra Code Blocks\n",
    "\n",
    "Some of the code blocks from the project were long and interruptive to the flow of the analysis, and were therefore moved to this section."
   ]
  },
  {
   "cell_type": "markdown",
   "metadata": {},
   "source": [
    "### The ggplot2 graphs"
   ]
  },
  {
   "cell_type": "code",
   "execution_count": 68,
   "metadata": {},
   "outputs": [],
   "source": [
    "g1 = movies %>% \n",
    "  group_by(genre)%>%\n",
    "  summarise(n=n()) %>%\n",
    "  ggplot(aes(x=reorder(genre,n), y=n)) +\n",
    "  geom_bar(stat='identity', fill='lightblue') + \n",
    "  theme_few() +\n",
    "  labs(x='', title=\"Genre\") +\n",
    "  scale_x_discrete(breaks=\"Drama\") +\n",
    "  scale_y_continuous(breaks=c(9,301)) +\n",
    "  theme(plot.title = element_text(size=7, face=\"bold\"), axis.title.y=element_blank(), axis.title.x = element_text(size=10), axis.text.x=element_text(size=7), axis.text.y=element_text(size=7))\n",
    "\n",
    "g2 = movies %>% \n",
    "  group_by(studio) %>%\n",
    "  summarise(n=n()) %>%\n",
    "  ggplot(aes(x=reorder(studio,n), y=n)) + \n",
    "  geom_bar(stat='identity', fill='lightblue') + \n",
    "  theme_few() +\n",
    "  labs(x='', title=\"Studio\") +\n",
    "  theme(plot.title = element_text(size=7, face=\"bold\"), axis.title.y=element_blank(), axis.title.x = element_text(size=10), axis.text.x=element_text(size=7), axis.text.y=element_text(size=7)) +\n",
    "  scale_x_discrete(breaks=\"Other\") +\n",
    "  scale_y_continuous(breaks=c(23,529))\n",
    "\n",
    "g3 = movies %>% \n",
    "  ggplot(aes(x=type)) + \n",
    "  geom_bar(fill='lightblue') + \n",
    "  theme_few() +\n",
    "  labs(x='', title=\"Feature Film?\") +\n",
    "  theme(plot.title = element_text(size=7, face=\"bold\"), axis.title.y=element_blank(), axis.title.x = element_text(size=10), axis.text.x=element_text(size=7), axis.text.y=element_text(size=7)) + \n",
    "  scale_x_discrete(labels=c(\"no\", \"yes\")) +\n",
    "  scale_y_continuous(breaks=c(55,591))\n",
    "\n",
    "g4 = movies %>% \n",
    "  group_by(best_actor) %>%\n",
    "  summarise(n=n()) %>%\n",
    "  ggplot(aes(x=reorder(best_actor,n), y=n)) + \n",
    "  geom_bar(stat='identity', fill='lightblue') +  \n",
    "  theme_few() +\n",
    "  labs(x='', title=\"Best Actor?\") +\n",
    "  scale_y_continuous(breaks=c(144,502)) +\n",
    "  theme(plot.title = element_text(size=7, face=\"bold\"), axis.title.y=element_blank(), axis.title.x = element_text(size=10), axis.text.x=element_text(size=7), axis.text.y=element_text(size=7))\n",
    "\n",
    "g5 = movies %>% \n",
    "  group_by(best_director) %>%\n",
    "  summarise(n=n()) %>%\n",
    "  ggplot(aes(x=reorder(best_director,n), y=n)) + \n",
    "  geom_bar(stat='identity', fill='lightblue') + \n",
    "  theme_few() +\n",
    "  labs(x='', title=\"Best Director?\") +\n",
    "  scale_y_continuous(breaks=c(43,603)) +\n",
    "  theme(plot.title = element_text(size=7, face=\"bold\"), axis.title.y=element_blank(), axis.title.x = element_text(size=10), axis.text.x=element_text(size=7), axis.text.y=element_text(size=7)) \n",
    "  \n",
    "g6 = movies %>% \n",
    "  ggplot(aes(x=maturity)) + \n",
    "  geom_bar(fill='lightblue') + \n",
    "  theme_few() +\n",
    "  labs(x='', title=\"Maturity Rating\") +\n",
    "  scale_y_continuous(breaks=c(69,326)) +\n",
    "  theme(plot.title = element_text(size=7, face=\"bold\"), axis.title.y=element_blank(), axis.title.x = element_text(size=10), axis.text.x=element_text(size=7), axis.text.y=element_text(size=7))\n",
    "\n",
    "g7 = movies %>% \n",
    "  ggplot(aes(x=day)) + \n",
    "  geom_bar(fill='lightblue') + \n",
    "  theme_few() + \n",
    "  labs(x='', title=\"Day of Month (1-31)\") +\n",
    "  theme(plot.title = element_text(size=7, face=\"bold\"), axis.title.y=element_blank(), axis.title.x = element_text(size=10), axis.text.x=element_text(size=7), axis.text.y=element_text(size=7)) +\n",
    "  scale_x_continuous(breaks=c(1,31)) +\n",
    "  scale_y_continuous(breaks=c(6,73))\n",
    "\n",
    "g8 = movies %>% ggplot(aes(x=month)) + \n",
    "  geom_bar(fill='lightblue') + \n",
    "  theme_few() +\n",
    "  labs(x='', title=\"Month\") +\n",
    "  theme(plot.title = element_text(size=7, face=\"bold\"), axis.title.y=element_blank(), axis.title.x = element_text(size=10), axis.text.x=element_text(size=7), axis.text.y=element_text(size=7)) +\n",
    "  scale_x_discrete(breaks=c(\"Jan\", \"Dec\")) +\n",
    "  scale_y_continuous(breaks=c(33,72))\n",
    "\n",
    "g9 = movies %>% ggplot(aes(x=year)) + \n",
    "  geom_histogram(fill='red', binwidth=3) +\n",
    "  theme_few() +\n",
    "  labs(x='', title=\"Year\") +\n",
    "  theme(plot.title = element_text(size=7, face=\"bold\"), axis.title.y=element_blank(), axis.title.x = element_text(size=10), axis.text.x=element_text(size=7), axis.text.y=element_text(size=7)) +\n",
    "  scale_x_continuous(breaks=c(1970,2014)) +\n",
    "  scale_y_continuous(breaks=c(3,88))\n",
    "\n",
    "g10 = movies %>% ggplot(aes(x=length)) + \n",
    "  geom_histogram(fill='red', binwidth=3) +\n",
    "  theme_few() +\n",
    "  labs(x='', title=\"Length (minutes)\") +\n",
    "  theme(plot.title = element_text(size=7, face=\"bold\"), axis.title.y=element_blank(), axis.title.x = element_text(size=10), axis.text.x=element_text(size=7), axis.text.y=element_text(size=7)) +\n",
    "  scale_x_continuous(breaks=c(50,100,250)) +\n",
    "  scale_y_continuous(breaks=c(1,57))\n",
    "\n",
    "g11 = movies %>% ggplot(aes(x=reorder(best_actor, rating, median), y=rating)) + \n",
    "  geom_boxplot(fill='lightblue') + \n",
    "  labs(x=\"Best Actor?\", y=\"IMDB Rating\", title=\"Do best actors improve movie ratings?\") +\n",
    "  theme_few() + \n",
    "  scale_y_continuous(breaks=1:10) +\n",
    "  theme(plot.title=element_text(size=10,face=\"bold\"), axis.title.x = element_text(size=9), axis.title.y = element_text(size=9))  \n",
    "\n",
    "g12 = movies %>% ggplot(aes(x=reorder(best_director, rating, median), y=rating)) + \n",
    "  geom_boxplot(fill='lightblue') + \n",
    "  labs(x=\"Best Director?\", y=\"IMDB Rating\", title=\"Do best directors improve movie ratings?\") +\n",
    "  theme_few() + \n",
    "  scale_y_continuous(breaks=1:10) +\n",
    "  theme(plot.title=element_text(size=10,face=\"bold\"), axis.title.x = element_text(size=9), axis.title.y = element_text(size=9))   \n",
    "\n",
    "g13 = movies %>% ggplot(aes(x=reorder(type, -1*rating, median), y=rating)) + \n",
    "  geom_boxplot(fill=\"lightblue\") + \n",
    "  labs(y=\"IMDB Rating\", title=\"Do moviegoers prefer feature films or documentaries?\") +\n",
    "  theme_few() + \n",
    "  scale_y_continuous(breaks=1:10) +\n",
    "  theme(axis.title.x = element_blank(), axis.title.y = element_text(size=9), plot.title=element_text(size=9,face=\"bold\"), axis.text.x=element_text(size=9))\n",
    "\n",
    "g14 = movies %>% ggplot(aes(x=reorder(genre, -1*rating, median), y=rating)) + \n",
    "  geom_boxplot(fill=\"lightblue\") + \n",
    "  labs(y=\"IMDB Rating\", title=\"Which genres do moviegoes prefer?\") +\n",
    "  theme_few() + \n",
    "  scale_y_continuous(breaks=1:10) +\n",
    "  theme(axis.title.x = element_blank(), axis.title.y = element_text(size=9), plot.title=element_text(size=9,face=\"bold\"), axis.text.x=element_text(size=9)) +\n",
    "  scale_x_discrete(breaks=c(\"Comedy\", \"Drama\", \"Documentary\"))\n",
    "\n",
    "g15 = movies %>% ggplot(aes(x=reorder(maturity, rating, median), y=rating)) + \n",
    "  geom_boxplot(fill=\"lightblue\") + \n",
    "  labs(y=\"IMDB Rating\", title=\"Do moviegoers prefer mature movies?\") +\n",
    "  theme_few() + \n",
    "  scale_y_continuous(breaks=1:10) +\n",
    "  theme(axis.title.y = element_text(size=9), plot.title=element_text(size=9,face=\"bold\"), axis.title.x=element_blank()) \n",
    "\n",
    "g16 = movies %>% ggplot(aes(x=reorder(studio, rating, median), y=rating)) +  \n",
    "  geom_boxplot(fill=\"lightblue\") + \n",
    "  theme_few() + \n",
    "  labs(y=\"IMDB Rating\", title=\"Do prolific studios produce better movies? (i)\") +\n",
    "  scale_x_discrete(breaks=\"Other\", labels=\"\\'Other\\' studio\") +\n",
    "  scale_y_continuous(breaks=2:9) +\n",
    "  theme(axis.title.y = element_text(size=9), plot.title=element_text(size=9,face=\"bold\"), axis.title.x=element_blank())\n",
    "\n",
    "g17 = movies %>% ggplot(aes(x=studio2, y=rating)) +  \n",
    "  geom_boxplot(fill=\"lightblue\", varwidth=TRUE) + \n",
    "  theme_few() + \n",
    "  coord_flip() +\n",
    "  labs(y=\"IMDB Rating\", title=\"Do prolific studios produce better movies? (ii)\") +\n",
    "  scale_x_discrete(breaks=c(\"Top4\",\"Other\")) +\n",
    "  scale_y_continuous(breaks=2:9) +\n",
    "  theme(axis.title.y=element_blank(), axis.title.x=element_text(size=9), plot.title=element_text(size=9,face=\"bold\"))\n",
    "\n",
    "g18 = movies %>% ggplot(aes(x=year, y=rating)) + \n",
    "  geom_point(color=\"red\", alpha=0.4) +\n",
    "  theme_few() +\n",
    "  scale_x_continuous(breaks=c(1970,2014)) +\n",
    "  scale_y_continuous(breaks=1:10) +\n",
    "  theme(plot.title = element_text(size=9, face=\"bold\"), axis.title.x = element_text(size=9), axis.title.y = element_text(size=9))  + \n",
    "  labs(x=\"Theater Release Year\", y=\"IMDB Rating\", title=\"Do movie ratings improve over time?\")\n",
    "\n",
    "g19 = movies %>% ggplot(aes(x=length, y=rating)) + \n",
    "  geom_point(color=\"red\", alpha=0.4) +\n",
    "  theme_few() +\n",
    "  scale_x_continuous(breaks=c(39,77,129,267)) +\n",
    "  scale_y_continuous(breaks=5.6) +\n",
    "  theme(plot.title = element_text(size=9, face=\"bold\"), axis.title.x = element_text(size=9), axis.title.y = element_text(size=9))  + \n",
    "  labs(x=\"Movie Length (minutes)\", y=\"IMDB Rating\", title=\"Do moviegoers prefer longer movies?\") +\n",
    "  geom_vline(xintercept=c(77,129), color=\"blue\") +\n",
    "  geom_hline(yintercept=5.6, color=\"blue\")"
   ]
  },
  {
   "cell_type": "markdown",
   "metadata": {},
   "source": [
    "### *all.possible.regressions()* function\n",
    "\n",
    "The code for this function was found here: <br /> http://r.789695.n4.nabble.com/Generating-all-possible-models-from-full-model-td2222377.html."
   ]
  },
  {
   "cell_type": "code",
   "execution_count": 20,
   "metadata": {},
   "outputs": [],
   "source": [
    "all.possible.regressions <- function(dat, k){ \n",
    "    n <- nrow(dat) \n",
    "    regressors <- paste(\"x\", 1:k, sep=\"\") \n",
    "    lst <- rep(list(c(T, F)), k) \n",
    "    regMat <- expand.grid(lst); \n",
    "    names(regMat) <- regressors \n",
    "    formular <- apply(regMat, 1, function(x) \n",
    "            as.character(paste(c(\"y ~ 1\", regressors[x]), collapse=\"+\"))) \n",
    "    allModelsList <- apply(regMat, 1, function(x) \n",
    "            as.formula(paste(c(\"y ~ 1\", regressors[x]),collapse=\" + \")) ) \n",
    "    allModelsResults <- lapply(allModelsList, \n",
    "            function(x, data) lm(x, data=data), data=dat) \n",
    "    n.models <- length(allModelsResults) \n",
    "    extract <- function(fit) { \n",
    "        df.sse <- fit$df.residual \n",
    "        p <- n - df.sse -1 \n",
    "        sigma <- summary(fit)$sigma \n",
    "        MSE <- sigma^2 \n",
    "        R2 <- summary(fit)$r.squared \n",
    "        R2.adj <- summary(fit)$adj.r.squared \n",
    "        sse <- MSE*df.sse \n",
    "        aic <- n*log(sse) + 2*(p+2) \n",
    "        bic <- n*log(sse) + log(n)*(p+2) \n",
    "        out <- data.frame(df.sse=df.sse, p=p, SSE=sse, MSE=MSE, \n",
    "            R2=R2, R2.adj=R2.adj, AIC=aic, BIC=bic) \n",
    "        return(out) \n",
    "    } \n",
    "    result <- lapply(allModelsResults, extract) \n",
    "    result <- as.data.frame(matrix(unlist(result), nrow=n.models, byrow=T)) \n",
    "    result <- cbind(formular, result) \n",
    "rownames(result) <- NULL \n",
    "colnames(result) <- c(\"model\", \"df.sse\", \"p\", \"SSE\", \"MSE\", \"R2\", \n",
    "\"R2.adj\", \"AIC\", \"BIC\") \n",
    "    return(result) \n",
    "} "
   ]
  },
  {
   "cell_type": "markdown",
   "metadata": {},
   "source": [
    "### Computing p-values"
   ]
  },
  {
   "cell_type": "code",
   "execution_count": 74,
   "metadata": {},
   "outputs": [],
   "source": [
    "#To make the for loop easier to build, we want to make the 10 explanatory variables consecutive.\n",
    "#Also, we need to convert movies to a data frame so that we can convert our columns to vectors (which doesn't work with tibbles).\n",
    "movies = select(movies, \"title\", \"rating\", everything())\n",
    "movies = as.data.frame(movies)\n",
    "\n",
    "#This function extracts a model's p-value.\n",
    "lmp <- function (modelobject) {\n",
    "    if (class(modelobject) != \"lm\") stop(\"Not an object of class 'lm' \")\n",
    "    f <- summary(modelobject)$fstatistic\n",
    "    p <- pf(f[1],f[2],f[3],lower.tail=F)\n",
    "    attributes(p) <- NULL\n",
    "    return(p)\n",
    "}\n",
    "\n",
    "#This loop extracts the p-value for each of the single-variable models.\n",
    "pvalue = vector(\"double\", 10)\n",
    "for (i in 1:10) {\n",
    "  line = lm(rating ~ movies[,i+2], movies)\n",
    "  pvalue[i] = lmp(line)\n",
    "} "
   ]
  },
  {
   "cell_type": "code",
   "execution_count": null,
   "metadata": {},
   "outputs": [],
   "source": []
  }
 ],
 "metadata": {
  "kernelspec": {
   "display_name": "R",
   "language": "R",
   "name": "ir"
  },
  "language_info": {
   "codemirror_mode": "r",
   "file_extension": ".r",
   "mimetype": "text/x-r-source",
   "name": "R",
   "pygments_lexer": "r",
   "version": "3.4.1"
  }
 },
 "nbformat": 4,
 "nbformat_minor": 2
}
